{
 "cells": [
  {
   "cell_type": "code",
   "execution_count": 1,
   "metadata": {},
   "outputs": [],
   "source": [
    "file  = open(\"nxdfwords.txt\" ,\"r+\")\n",
    "data = file.readlines()\n",
    "tfile = open('tfile.txt' , 'r+')"
   ]
  },
  {
   "cell_type": "code",
   "execution_count": 2,
   "metadata": {},
   "outputs": [],
   "source": [
    "lines = tfile.readlines();\n",
    "a = []\n",
    "for i in lines:\n",
    "    thisline = i.split(\" \");\n",
    "    a.append(thisline)"
   ]
  },
  {
   "cell_type": "code",
   "execution_count": 3,
   "metadata": {},
   "outputs": [],
   "source": [
    "c = []\n",
    "for i in range(len(a)):\n",
    "    for j in range(len(a[i])):\n",
    "        c.append(a[i][j].rstrip())"
   ]
  },
  {
   "cell_type": "code",
   "execution_count": 4,
   "metadata": {},
   "outputs": [],
   "source": [
    "d = []\n",
    "for i in data:\n",
    "    thisline = i.split(\" \");\n",
    "    d.append(thisline[0])"
   ]
  },
  {
   "cell_type": "code",
   "execution_count": 5,
   "metadata": {},
   "outputs": [],
   "source": [
    "e = [x for x in d if x in c]"
   ]
  },
  {
   "cell_type": "code",
   "execution_count": 6,
   "metadata": {},
   "outputs": [],
   "source": [
    "inds = []\n",
    "for i in range(len(e)):\n",
    "    inds.append(d.index(e[i]))"
   ]
  },
  {
   "cell_type": "code",
   "execution_count": 7,
   "metadata": {},
   "outputs": [
    {
     "name": "stdout",
     "output_type": "stream",
     "text": [
      "adversity hardship\n",
      "\n",
      "allegory fable\n",
      "\n",
      "aspersion slander\n",
      "\n",
      "cause célèbre celebrated legal case\n",
      "\n",
      "confound bewilder\n",
      "\n",
      "conjure summon\n",
      "\n",
      "connive conspire\n",
      "\n",
      "contrive arrange, artificial\n",
      "\n",
      "decline decrease in number\n",
      "\n",
      "decorum protocol, etiquette\n",
      "\n",
      "divine foretell\n",
      "\n",
      "elegant refined, exquisite\n",
      "\n",
      "elude evade\n",
      "\n",
      "embrace accept, adopt\n",
      "\n",
      "enjoin urge, order, forbid\n",
      "\n",
      "forbear abstain, restrain oneself\n",
      "\n",
      "heinous vile, atrocious\n",
      "\n",
      "impudence insolence\n",
      "\n",
      "in toto in full, entirely\n",
      "\n",
      "in toto in full, entirely\n",
      "\n",
      "ineffectual futile\n",
      "\n",
      "paltry scarce\n",
      "\n",
      "persuasive convincing\n",
      "\n",
      "prodigal wasteful\n",
      "\n",
      "profane blasphemous\n",
      "\n",
      "provocation incitement\n",
      "\n",
      "quagmire difficult situation\n",
      "\n",
      "scheme plot, system, diagram\n",
      "\n",
      "specious false but plausible reasoning\n",
      "\n",
      "unaffected natural, sincere\n",
      "\n",
      "warrant justification\n",
      "\n"
     ]
    }
   ],
   "source": [
    "for i in range(len(inds)):\n",
    "    print(data[inds[i]])"
   ]
  },
  {
   "cell_type": "code",
   "execution_count": null,
   "metadata": {},
   "outputs": [],
   "source": []
  }
 ],
 "metadata": {
  "kernelspec": {
   "display_name": "Python 3",
   "language": "python",
   "name": "python3"
  },
  "language_info": {
   "codemirror_mode": {
    "name": "ipython",
    "version": 3
   },
   "file_extension": ".py",
   "mimetype": "text/x-python",
   "name": "python",
   "nbconvert_exporter": "python",
   "pygments_lexer": "ipython3",
   "version": "3.6.4"
  }
 },
 "nbformat": 4,
 "nbformat_minor": 2
}
